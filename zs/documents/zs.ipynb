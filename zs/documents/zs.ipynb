{
 "cells": [
  {
   "cell_type": "code",
   "execution_count": 4,
   "metadata": {
    "collapsed": true
   },
   "outputs": [],
   "source": [
    "import numpy as np\n",
    "import pandas as pd\n",
    "from pandas import Series, DataFrame\n",
    "import os as os\n",
    "os.chdir('/media/shubham/04505A8E505A85F8/Data Science/zs')\n",
    "import matplotlib.pyplot as plt\n",
    "%matplotlib inline\n",
    "from sklearn import preprocessing\n",
    "from sklearn.ensemble import RandomForestRegressor\n",
    "from sklearn.model_selection import cross_val_score\n",
    "from sklearn.metrics import mean_squared_error\n",
    "#from sklearn.cross_validation import train_test_split"
   ]
  },
  {
   "cell_type": "code",
   "execution_count": 5,
   "metadata": {
    "collapsed": true
   },
   "outputs": [],
   "source": [
    "train = pd.read_csv('train.csv', date_parser=lambda x: pd.to_datetime(x, format=\"%Y%m\"),index_col=\"Date\").reset_index()\n",
    "test = pd.read_csv('test.csv')"
   ]
  },
  {
   "cell_type": "markdown",
   "metadata": {},
   "source": [
    "# Data Exploration"
   ]
  },
  {
   "cell_type": "code",
   "execution_count": 729,
   "metadata": {},
   "outputs": [
    {
     "data": {
      "text/plain": [
       "3000"
      ]
     },
     "execution_count": 729,
     "metadata": {},
     "output_type": "execute_result"
    }
   ],
   "source": [
    "len(np.unique(train['PID']))"
   ]
  },
  {
   "cell_type": "code",
   "execution_count": 732,
   "metadata": {},
   "outputs": [
    {
     "data": {
      "text/plain": [
       "count    3000.000000\n",
       "mean      255.595667\n",
       "std       237.081149\n",
       "min        11.000000\n",
       "25%       119.000000\n",
       "50%       182.000000\n",
       "75%       312.000000\n",
       "max      2476.000000\n",
       "Name: PID, dtype: float64"
      ]
     },
     "execution_count": 732,
     "metadata": {},
     "output_type": "execute_result"
    }
   ],
   "source": [
    "train['PID'].value_counts().describe()"
   ]
  },
  {
   "cell_type": "code",
   "execution_count": 731,
   "metadata": {},
   "outputs": [
    {
     "data": {
      "text/plain": [
       "count    285577.000000\n",
       "mean          2.685045\n",
       "std           4.434092\n",
       "min           1.000000\n",
       "25%           1.000000\n",
       "50%           1.000000\n",
       "75%           2.000000\n",
       "max         247.000000\n",
       "Name: Event, dtype: float64"
      ]
     },
     "execution_count": 731,
     "metadata": {},
     "output_type": "execute_result"
    }
   ],
   "source": [
    "train.groupby('PID')['Event'].value_counts().describe()"
   ]
  },
  {
   "cell_type": "code",
   "execution_count": 6,
   "metadata": {},
   "outputs": [
    {
     "data": {
      "text/plain": [
       "6472"
      ]
     },
     "execution_count": 6,
     "metadata": {},
     "output_type": "execute_result"
    }
   ],
   "source": [
    "len(np.unique(train['Event']))"
   ]
  },
  {
   "cell_type": "markdown",
   "metadata": {},
   "source": [
    "# Starter Code"
   ]
  },
  {
   "cell_type": "code",
   "execution_count": 506,
   "metadata": {
    "collapsed": true
   },
   "outputs": [],
   "source": [
    "# starter code\n",
    "train_dcast = (pd.crosstab(index=[train['PID']], columns=train['Event'])).reset_index()\n",
    "submit = train_dcast.loc[:,train_dcast.columns != 'PID'].apply(lambda x: pd.Series(x.sort_values(ascending=False).iloc[:10].index, index=['Event'+str(x) for x in range(1,11)]),axis=1).reset_index()\n",
    "submit.drop('index',axis=1, inplace=True)\n",
    "# setting column names in sequence\n",
    "submit['PID'] = train_dcast['PID']\n",
    "cols = submit.columns.tolist()\n",
    "cols = cols[-1:] + cols[:-1]\n",
    "submit = submit[cols]"
   ]
  },
  {
   "cell_type": "code",
   "execution_count": 8,
   "metadata": {
    "collapsed": true
   },
   "outputs": [],
   "source": [
    "train['Date'] = pd.to_datetime(train['Date'])"
   ]
  },
  {
   "cell_type": "code",
   "execution_count": 9,
   "metadata": {
    "collapsed": true
   },
   "outputs": [],
   "source": [
    "## extracting year and month from date\n",
    "train['year'] = train['Date'].dt.year\n",
    "train['month'] = train['Date'].dt.month"
   ]
  },
  {
   "cell_type": "markdown",
   "metadata": {},
   "source": [
    "# Dividing each year into 8 months and 4 months (Final Model )"
   ]
  },
  {
   "cell_type": "code",
   "execution_count": 695,
   "metadata": {
    "collapsed": true
   },
   "outputs": [],
   "source": [
    "#2013-- last 8 months\n",
    "last8_train = train.loc[(train['year'] == 2013) & (train['month'] > 4)].drop(['year','month'],axis=1)"
   ]
  },
  {
   "cell_type": "code",
   "execution_count": 696,
   "metadata": {
    "collapsed": true
   },
   "outputs": [],
   "source": [
    "# selecting patients having more than 10 records\n",
    "counts = last8_train['PID'].value_counts()\n",
    "last8_train_records = last8_train[last8_train['PID'].isin(counts[counts >= 10].index)]"
   ]
  },
  {
   "cell_type": "code",
   "execution_count": 697,
   "metadata": {
    "collapsed": true
   },
   "outputs": [],
   "source": [
    "# calculating of these much of patients\n",
    "train_dcast = (pd.crosstab(index=[last8_train_records['PID']], columns=last8_train_records['Event'])).reset_index()\n",
    "submit1 = train_dcast.loc[:,train_dcast.columns != 'PID'].apply(lambda x: pd.Series(x.sort_values(ascending=False).iloc[:10].index, index=['Event'+str(x) for x in range(1,11)]),axis=1).reset_index()\n",
    "submit1.drop('index',axis=1, inplace=True)\n",
    "# setting column names in sequence\n",
    "submit1['PID'] = train_dcast['PID']\n",
    "cols = submit1.columns.tolist()\n",
    "cols = cols[-1:] + cols[:-1]\n",
    "submit1 = submit1[cols]"
   ]
  },
  {
   "cell_type": "code",
   "execution_count": 698,
   "metadata": {},
   "outputs": [
    {
     "data": {
      "text/plain": [
       "(2646, 11)"
      ]
     },
     "execution_count": 698,
     "metadata": {},
     "output_type": "execute_result"
    }
   ],
   "source": [
    "## 2646 patients record\n",
    "submit1.shape"
   ]
  },
  {
   "cell_type": "code",
   "execution_count": 699,
   "metadata": {
    "collapsed": true
   },
   "outputs": [],
   "source": [
    "## for rest of the patients which can be available from 2013 starting months\n",
    "start13_train = train.loc[(train['year'] == 2013) & (train['month'] <= 4)].drop(['year','month'],axis=1)"
   ]
  },
  {
   "cell_type": "code",
   "execution_count": 700,
   "metadata": {
    "collapsed": true
   },
   "outputs": [],
   "source": [
    "## patient id present which were not available previous\n",
    "pids = np.setdiff1d(start13_train['PID'],last8_train_records['PID'])\n",
    "pids = pd.DataFrame(data = pids, columns = ['PID'])"
   ]
  },
  {
   "cell_type": "code",
   "execution_count": 702,
   "metadata": {},
   "outputs": [],
   "source": [
    "# data of 2013\n",
    "t13 = train.loc[train['year'] == 2013]"
   ]
  },
  {
   "cell_type": "code",
   "execution_count": 703,
   "metadata": {
    "collapsed": true
   },
   "outputs": [],
   "source": [
    "# getting info of those ids\n",
    "left_last8_train = (pd.merge(pids,t13,on='PID', how='left'))"
   ]
  },
  {
   "cell_type": "code",
   "execution_count": 704,
   "metadata": {
    "collapsed": true
   },
   "outputs": [],
   "source": [
    "# removing patient data which have less than 10 records\n",
    "counts = left_last8_train['PID'].value_counts()\n",
    "left_last8_train_records = left_last8_train[left_last8_train['PID'].isin(counts[counts >= 10].index)]"
   ]
  },
  {
   "cell_type": "code",
   "execution_count": 705,
   "metadata": {
    "collapsed": true
   },
   "outputs": [],
   "source": [
    "# calculating of these much of patients\n",
    "train_dcast = (pd.crosstab(index=[left_last8_train_records['PID']], columns=left_last8_train_records['Event'])).reset_index()\n",
    "submit2 = train_dcast.loc[:,train_dcast.columns != 'PID'].apply(lambda x: pd.Series(x.sort_values(ascending=False).iloc[:10].index, index=['Event'+str(x) for x in range(1,11)]),axis=1).reset_index()\n",
    "submit2.drop('index',axis=1, inplace=True)\n",
    "# setting column names in sequence\n",
    "submit2['PID'] = train_dcast['PID']\n",
    "cols = submit2.columns.tolist()\n",
    "cols = cols[-1:] + cols[:-1]\n",
    "submit2 = submit2[cols]"
   ]
  },
  {
   "cell_type": "code",
   "execution_count": 706,
   "metadata": {},
   "outputs": [
    {
     "data": {
      "text/plain": [
       "(203, 11)"
      ]
     },
     "execution_count": 706,
     "metadata": {},
     "output_type": "execute_result"
    }
   ],
   "source": [
    "## 203 patient data\n",
    "submit2.shape"
   ]
  },
  {
   "cell_type": "code",
   "execution_count": null,
   "metadata": {
    "collapsed": true
   },
   "outputs": [],
   "source": [
    "## similarly getting data from the previous year"
   ]
  },
  {
   "cell_type": "code",
   "execution_count": 707,
   "metadata": {
    "collapsed": true
   },
   "outputs": [],
   "source": [
    "last12_train = train.loc[(train['year'] == 2012) & (train['month'] > 4)].drop(['year','month'],axis=1)"
   ]
  },
  {
   "cell_type": "code",
   "execution_count": 708,
   "metadata": {
    "collapsed": true
   },
   "outputs": [],
   "source": [
    "final1 = submit1.append(submit2)"
   ]
  },
  {
   "cell_type": "code",
   "execution_count": 709,
   "metadata": {},
   "outputs": [],
   "source": [
    "left_train12 = pd.DataFrame(data = np.setdiff1d(last12_train['PID'],final1['PID']), columns= ['PID'])"
   ]
  },
  {
   "cell_type": "code",
   "execution_count": 710,
   "metadata": {
    "collapsed": true
   },
   "outputs": [],
   "source": [
    "t12_13 = train.loc[(train['year'] == 2013) | ((train['year'] == 2012) & (train['month'] > 4))]"
   ]
  },
  {
   "cell_type": "code",
   "execution_count": 711,
   "metadata": {
    "collapsed": true
   },
   "outputs": [],
   "source": [
    "left_train12 = (pd.merge(left_train12,t12_13,on='PID',how='left'))"
   ]
  },
  {
   "cell_type": "code",
   "execution_count": 712,
   "metadata": {
    "collapsed": true
   },
   "outputs": [],
   "source": [
    "## removing events occuring less than 10\n",
    "counts = left_train12['PID'].value_counts()\n",
    "left_train12_records = left_train12[left_train12['PID'].isin(counts[counts >= 10].index)]"
   ]
  },
  {
   "cell_type": "code",
   "execution_count": 714,
   "metadata": {
    "collapsed": true
   },
   "outputs": [],
   "source": [
    "# calculating of these much of patients\n",
    "train_dcast = (pd.crosstab(index=[left_train12_records['PID']], columns=left_train12_records['Event'])).reset_index()\n",
    "submit3 = train_dcast.loc[:,train_dcast.columns != 'PID'].apply(lambda x: pd.Series(x.sort_values(ascending=False).iloc[:10].index, index=['Event'+str(x) for x in range(1,11)]),axis=1).reset_index()\n",
    "submit3.drop('index',axis=1, inplace=True)\n",
    "# setting column names in sequence\n",
    "submit3['PID'] = train_dcast['PID']\n",
    "cols = submit3.columns.tolist()\n",
    "cols = cols[-1:] + cols[:-1]\n",
    "submit3 = submit3[cols]"
   ]
  },
  {
   "cell_type": "code",
   "execution_count": 715,
   "metadata": {},
   "outputs": [
    {
     "data": {
      "text/plain": [
       "(103, 11)"
      ]
     },
     "execution_count": 715,
     "metadata": {},
     "output_type": "execute_result"
    }
   ],
   "source": [
    "submit3.shape"
   ]
  },
  {
   "cell_type": "code",
   "execution_count": 716,
   "metadata": {
    "collapsed": true
   },
   "outputs": [],
   "source": [
    "final2 = final1.append(submit3)"
   ]
  },
  {
   "cell_type": "code",
   "execution_count": 717,
   "metadata": {},
   "outputs": [],
   "source": [
    "left_pid1 = pd.DataFrame(np.setdiff1d(submit['PID'],final2['PID']) ,columns= ['PID'])"
   ]
  },
  {
   "cell_type": "code",
   "execution_count": 718,
   "metadata": {
    "collapsed": true
   },
   "outputs": [],
   "source": [
    "train_after11 = train.loc[(train['year'] == 2012) | (train['year'] == 2013)]\n",
    "left_pid_data = pd.merge(left_pid1, train_after11,on = 'PID', how='left')"
   ]
  },
  {
   "cell_type": "code",
   "execution_count": 719,
   "metadata": {},
   "outputs": [],
   "source": [
    "left_pid_records = left_pid_data.dropna()"
   ]
  },
  {
   "cell_type": "code",
   "execution_count": 720,
   "metadata": {},
   "outputs": [],
   "source": [
    "#\n",
    "counts = left_pid_records['PID'].value_counts()\n",
    "left_pid_data_records = left_pid_records[left_pid_records['PID'].isin(counts[counts >= 10].index)]"
   ]
  },
  {
   "cell_type": "code",
   "execution_count": 721,
   "metadata": {
    "collapsed": true
   },
   "outputs": [],
   "source": [
    "# calculating of these much of patients\n",
    "train_dcast = (pd.crosstab(index=[left_pid_data_records['PID']], columns=left_pid_data_records['Event'])).reset_index()\n",
    "submit4 = train_dcast.loc[:,train_dcast.columns != 'PID'].apply(lambda x: pd.Series(x.sort_values(ascending=False).iloc[:10].index, index=['Event'+str(x) for x in range(1,11)]),axis=1).reset_index()\n",
    "submit4.drop('index',axis=1, inplace=True)\n",
    "# setting column names in sequence\n",
    "submit4['PID'] = train_dcast['PID']\n",
    "cols = submit4.columns.tolist()\n",
    "cols = cols[-1:] + cols[:-1]\n",
    "submit4 = submit4[cols]"
   ]
  },
  {
   "cell_type": "code",
   "execution_count": null,
   "metadata": {
    "collapsed": true
   },
   "outputs": [],
   "source": [
    "## merging all the dataframes "
   ]
  },
  {
   "cell_type": "code",
   "execution_count": 722,
   "metadata": {
    "collapsed": true
   },
   "outputs": [],
   "source": [
    "final3 = final2.append(submit4)"
   ]
  },
  {
   "cell_type": "code",
   "execution_count": 723,
   "metadata": {},
   "outputs": [],
   "source": [
    "last_ones = pd.DataFrame(np.setdiff1d(submit['PID'],final3['PID']), columns= ['PID'])"
   ]
  },
  {
   "cell_type": "code",
   "execution_count": 724,
   "metadata": {},
   "outputs": [],
   "source": [
    "# getting rest prediction from 2011 data\n",
    "final = final3.append(pd.merge(last_ones,submit,on='PID',how='left'))"
   ]
  },
  {
   "cell_type": "code",
   "execution_count": 725,
   "metadata": {},
   "outputs": [
    {
     "data": {
      "text/plain": [
       "(3000, 11)"
      ]
     },
     "execution_count": 725,
     "metadata": {},
     "output_type": "execute_result"
    }
   ],
   "source": [
    "final.shape"
   ]
  },
  {
   "cell_type": "code",
   "execution_count": 726,
   "metadata": {
    "collapsed": true
   },
   "outputs": [],
   "source": [
    "final.to_csv('final.csv', index=False)"
   ]
  },
  {
   "cell_type": "markdown",
   "metadata": {},
   "source": [
    "# segementation of patients based on frequency"
   ]
  },
  {
   "cell_type": "code",
   "execution_count": 7,
   "metadata": {
    "collapsed": true
   },
   "outputs": [],
   "source": [
    "## freq visitors and less freq wise\n",
    "counts = train['PID'].value_counts()\n",
    "freqt = train[train['PID'].isin(counts[counts > 181].index)]"
   ]
  },
  {
   "cell_type": "code",
   "execution_count": 8,
   "metadata": {
    "collapsed": true
   },
   "outputs": [],
   "source": [
    "frqt = freqt[freqt['year'] == 2013].drop('year',axis=1)"
   ]
  },
  {
   "cell_type": "code",
   "execution_count": 9,
   "metadata": {
    "collapsed": true
   },
   "outputs": [],
   "source": [
    "counts = train['PID'].value_counts()\n",
    "less_freqt = train[train['PID'].isin(counts[counts < 182].index)]"
   ]
  },
  {
   "cell_type": "code",
   "execution_count": 10,
   "metadata": {
    "collapsed": true
   },
   "outputs": [],
   "source": [
    "## preparing cross tab for both and then append\n",
    "train_dcast = (pd.crosstab(index=[freqt['PID']], columns=freqt['Event'])).reset_index()\n",
    "fqt = train_dcast.loc[:,train_dcast.columns != 'PID'].apply(lambda x: pd.Series(x.sort_values(ascending=False).iloc[:10].index, index=['Event'+str(x) for x in range(1,11)]),axis=1).reset_index()\n",
    "fqt.drop('index',axis=1, inplace=True)\n",
    "# setting column names in sequence\n",
    "fqt['PID'] = train_dcast['PID']\n",
    "cols = fqt.cdolumns.tolist()\n",
    "cols = cols[-1:] + cols[:-1]\n",
    "fqt = fqt[cols]"
   ]
  },
  {
   "cell_type": "code",
   "execution_count": 11,
   "metadata": {
    "collapsed": true
   },
   "outputs": [],
   "source": [
    "train_dcast = (pd.crosstab(index=[less_freqt['PID']], columns=less_freqt['Event'])).reset_index()\n",
    "less_fqt = train_dcast.loc[:,train_dcast.columns != 'PID'].apply(lambda x: pd.Series(x.sort_values(ascending=False).iloc[:10].index, index=['Event'+str(x) for x in range(1,11)]),axis=1).reset_index()\n",
    "less_fqt.drop('index',axis=1, inplace=True)\n",
    "# setting column names in sequence\n",
    "less_fqt['PID'] = train_dcast['PID']\n",
    "cols = less_fqt.columns.tolist()\n",
    "cols = cols[-1:] + cols[:-1]\n",
    "less_fqt = less_fqt[cols]"
   ]
  },
  {
   "cell_type": "code",
   "execution_count": 12,
   "metadata": {
    "collapsed": true
   },
   "outputs": [],
   "source": [
    "frq_wise = fqt.append(less_fqt)"
   ]
  },
  {
   "cell_type": "code",
   "execution_count": 16,
   "metadata": {
    "collapsed": true
   },
   "outputs": [],
   "source": [
    "frq_wise = frq_wise.sort_values('PID')"
   ]
  },
  {
   "cell_type": "code",
   "execution_count": 17,
   "metadata": {
    "collapsed": true
   },
   "outputs": [],
   "source": [
    "frq_wise.to_csv('freq_wise.csv',index=False)"
   ]
  },
  {
   "cell_type": "code",
   "execution_count": 18,
   "metadata": {},
   "outputs": [
    {
     "data": {
      "text/plain": [
       "(3000, 11)"
      ]
     },
     "execution_count": 18,
     "metadata": {},
     "output_type": "execute_result"
    }
   ],
   "source": [
    "frq_wise.shape"
   ]
  },
  {
   "cell_type": "code",
   "execution_count": 8,
   "metadata": {},
   "outputs": [
    {
     "data": {
      "text/plain": [
       "2965"
      ]
     },
     "execution_count": 8,
     "metadata": {},
     "output_type": "execute_result"
    }
   ],
   "source": [
    "len(np.unique(train.loc[train['year'] == 2013,'PID']))"
   ]
  },
  {
   "cell_type": "markdown",
   "metadata": {},
   "source": [
    "# Giving respective weights to year wise event that occur"
   ]
  },
  {
   "cell_type": "code",
   "execution_count": 8,
   "metadata": {
    "collapsed": true
   },
   "outputs": [],
   "source": [
    "train_11 = train.loc[train['year'] == 2011].drop('year',axis=1)\n",
    "train_dcast11 = (pd.crosstab(index=[train_11['PID']], columns=train_11['Event'])).reset_index()"
   ]
  },
  {
   "cell_type": "code",
   "execution_count": 9,
   "metadata": {},
   "outputs": [
    {
     "data": {
      "text/plain": [
       "(2868, 5118)"
      ]
     },
     "execution_count": 9,
     "metadata": {},
     "output_type": "execute_result"
    }
   ],
   "source": [
    "train_dcast11.shape"
   ]
  },
  {
   "cell_type": "code",
   "execution_count": 10,
   "metadata": {},
   "outputs": [
    {
     "data": {
      "text/plain": [
       "(3000, 6473)"
      ]
     },
     "execution_count": 10,
     "metadata": {},
     "output_type": "execute_result"
    }
   ],
   "source": [
    "train_dcast.shape"
   ]
  },
  {
   "cell_type": "code",
   "execution_count": 11,
   "metadata": {
    "collapsed": true
   },
   "outputs": [],
   "source": [
    "col = np.setdiff1d(train_dcast.columns,train_dcast11.columns)"
   ]
  },
  {
   "cell_type": "code",
   "execution_count": 12,
   "metadata": {
    "collapsed": true
   },
   "outputs": [],
   "source": [
    "t11 = pd.concat([train_dcast11, pd.DataFrame(columns = col)]).fillna(0)"
   ]
  },
  {
   "cell_type": "code",
   "execution_count": 13,
   "metadata": {
    "collapsed": true
   },
   "outputs": [],
   "source": [
    "pid = np.setdiff1d(train_dcast['PID'],train_dcast11['PID'])"
   ]
  },
  {
   "cell_type": "code",
   "execution_count": 14,
   "metadata": {
    "collapsed": true
   },
   "outputs": [],
   "source": [
    "t_11= t11.append(pd.DataFrame(data=pid, columns= ['PID'])).sort_values('PID').reset_index().drop('index',axis=1).fillna(0)*0.1"
   ]
  },
  {
   "cell_type": "code",
   "execution_count": 15,
   "metadata": {
    "collapsed": true
   },
   "outputs": [],
   "source": [
    "train_12 = train.loc[train['year'] == 2012].drop('year',axis=1)\n",
    "train_dcast12 = (pd.crosstab(index=[train_12['PID']], columns=train_12['Event'])).reset_index()\n",
    "col = np.setdiff1d(train_dcast.columns,train_dcast12.columns)\n",
    "t12 = pd.concat([train_dcast12, pd.DataFrame(columns = col)]).fillna(0)\n",
    "pid = np.setdiff1d(train_dcast['PID'],train_dcast12['PID'])\n",
    "t_12 = t12.append(pd.DataFrame(data=pid, columns= ['PID'])).sort_values('PID').reset_index().drop('index',axis=1).fillna(0)*0.2"
   ]
  },
  {
   "cell_type": "code",
   "execution_count": 16,
   "metadata": {
    "collapsed": true
   },
   "outputs": [],
   "source": [
    "train_13 = train.loc[train['year'] == 2013].drop('year',axis=1)\n",
    "train_dcast13 = (pd.crosstab(index=[train_13['PID']], columns=train_13['Event'])).reset_index()\n",
    "col = np.setdiff1d(train_dcast.columns,train_dcast13.columns)\n",
    "t13 = pd.concat([train_dcast13, pd.DataFrame(columns = col)]).fillna(0)\n",
    "pid = np.setdiff1d(train_dcast['PID'],train_dcast13['PID'])\n",
    "t_13 = t13.append(pd.DataFrame(data=pid, columns= ['PID'])).sort_values('PID').reset_index().drop('index',axis=1).fillna(0)*0.7"
   ]
  },
  {
   "cell_type": "code",
   "execution_count": 17,
   "metadata": {
    "collapsed": true,
    "scrolled": true
   },
   "outputs": [],
   "source": [
    "df1 = pd.DataFrame.add(t_11,t_12,axis=1)"
   ]
  },
  {
   "cell_type": "code",
   "execution_count": 18,
   "metadata": {
    "collapsed": true
   },
   "outputs": [],
   "source": [
    "df2 = pd.DataFrame.add(df1,t_13,axis=1)"
   ]
  },
  {
   "cell_type": "code",
   "execution_count": 19,
   "metadata": {
    "collapsed": true
   },
   "outputs": [],
   "source": [
    "pid_order = test.sort_values('PID').reset_index().drop('index',axis=1)"
   ]
  },
  {
   "cell_type": "code",
   "execution_count": 20,
   "metadata": {
    "collapsed": true
   },
   "outputs": [],
   "source": [
    "fqt = df2.loc[:,df2.columns != 'PID'].apply(lambda x: pd.Series(x.sort_values(ascending=False).iloc[:10].index, index=['Event'+str(x) for x in range(1,11)]),axis=1).reset_index()\n",
    "fqt.drop('index',axis=1, inplace=True)\n",
    "# setting column names in sequence\n",
    "fqt['PID'] = pid_order['PID']\n",
    "cols = fqt.columns.tolist()\n",
    "cols = cols[-1:] + cols[:-1]\n",
    "fqt = fqt[cols]"
   ]
  },
  {
   "cell_type": "code",
   "execution_count": 21,
   "metadata": {
    "collapsed": true
   },
   "outputs": [],
   "source": [
    "fqt.to_csv('weights.csv',index=False)"
   ]
  }
 ],
 "metadata": {
  "kernelspec": {
   "display_name": "Python 3",
   "language": "python",
   "name": "python3"
  },
  "language_info": {
   "codemirror_mode": {
    "name": "ipython",
    "version": 3
   },
   "file_extension": ".py",
   "mimetype": "text/x-python",
   "name": "python",
   "nbconvert_exporter": "python",
   "pygments_lexer": "ipython3",
   "version": "3.6.1"
  }
 },
 "nbformat": 4,
 "nbformat_minor": 2
}
