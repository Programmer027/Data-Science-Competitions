{
 "cells": [
  {
   "cell_type": "code",
   "execution_count": 18,
   "metadata": {},
   "outputs": [],
   "source": [
    "## importing libraries\n",
    "import numpy as np\n",
    "import pandas as pd\n",
    "from pandas import Series, DataFrame\n",
    "import os\n",
    "import matplotlib.pyplot as plt\n",
    "%matplotlib inline\n",
    "os.chdir('/media/shubham/3AA25FBFA25F7DF7/Kaggle/russian housing market')\n",
    "from sklearn.ensemble import RandomForestRegressor\n",
    "from sklearn.ensemble import RandomForestClassifier\n",
    "from sklearn.cross_validation import cross_val_score\n",
    "from sklearn.preprocessing import LabelEncoder"
   ]
  },
  {
   "cell_type": "code",
   "execution_count": 12,
   "metadata": {
    "collapsed": true
   },
   "outputs": [],
   "source": [
    "## reading files\n",
    "train = pd.read_csv('train.csv')\n",
    "test = pd.read_csv('test.csv')"
   ]
  },
  {
   "cell_type": "code",
   "execution_count": 13,
   "metadata": {
    "collapsed": true
   },
   "outputs": [],
   "source": [
    "#### preprocessing ####\n",
    "\n",
    "## missing values\n",
    "for i in train.columns:\n",
    "    if train[i].dtype == 'object':\n",
    "        train[i] = train[i].fillna(train[i].mode().iloc[0])\n",
    "    if (train[i].dtype == 'int' or train[i].dtype == 'float'):\n",
    "        train[i] = train[i].fillna(np.mean(train[i]))\n",
    "for i in test.columns:\n",
    "    if test[i].dtype == 'object':\n",
    "        test[i] = test[i].fillna(test[i].mode().iloc[0])\n",
    "    if (test[i].dtype == 'int' or test[i].dtype == 'float'):\n",
    "        test[i] = test[i].fillna(np.mean(test[i]))\n",
    "\n",
    "## label encoding\n",
    "number = LabelEncoder()\n",
    "for i in train.columns:\n",
    "    if (train[i].dtype == 'object'):\n",
    "        train[i] = number.fit_transform(train[i].astype('str'))\n",
    "        train[i] = train[i].astype('object')\n",
    "        \n",
    "for i in test.columns:\n",
    "    if (test[i].dtype == 'object'):\n",
    "        test[i] = number.fit_transform(test[i].astype('str'))\n",
    "        test[i] = test[i].astype('object')"
   ]
  },
  {
   "cell_type": "code",
   "execution_count": 22,
   "metadata": {
    "collapsed": true
   },
   "outputs": [],
   "source": [
    "## creating a new feature origin\n",
    "train['origin'] = 0\n",
    "test['origin'] = 1\n",
    "training = train.drop('price_doc',axis=1) #droping target variable"
   ]
  },
  {
   "cell_type": "code",
   "execution_count": 26,
   "metadata": {},
   "outputs": [],
   "source": [
    "## taking sample from training and test data\n",
    "training = training.sample(7662, random_state=12)\n",
    "#testing = test.sample(7000, random_state=11)"
   ]
  },
  {
   "cell_type": "code",
   "execution_count": 27,
   "metadata": {
    "collapsed": true
   },
   "outputs": [],
   "source": [
    "## combining random samples\n",
    "combi = training.append(test)\n",
    "y = combi['origin']\n",
    "combi.drop('origin',axis=1,inplace=True)"
   ]
  },
  {
   "cell_type": "code",
   "execution_count": 28,
   "metadata": {
    "scrolled": true
   },
   "outputs": [
    {
     "name": "stdout",
     "output_type": "stream",
     "text": [
      "id 0.875815713913\n",
      "life_sq 0.856597962561\n",
      "kitch_sq 0.894301021881\n",
      "hospital_beds_raion 0.882621122891\n",
      "cafe_sum_500_min_price_avg 0.839616174389\n",
      "cafe_sum_500_max_price_avg 0.837342668354\n",
      "cafe_avg_price_500 0.838653925807\n"
     ]
    }
   ],
   "source": [
    "## modelling\n",
    "model = RandomForestClassifier(n_estimators = 50, max_depth = 5,min_samples_leaf = 5)\n",
    "drop_list = []\n",
    "for i in combi.columns:\n",
    "    score = cross_val_score(model,pd.DataFrame(combi[i]),y,cv=2,scoring='roc_auc')\n",
    "    if (np.mean(score) > 0.8):\n",
    "        drop_list.append(i)\n",
    "        print(i,np.mean(score))"
   ]
  },
  {
   "cell_type": "markdown",
   "metadata": {},
   "source": [
    "Drifting features : {id, life_sq, kitch_sq, hospital_beds_raion, cafe_sum_500_min_price_avg, cafe_sum_500_max_price_avg, cafe_avg_price_500 }"
   ]
  },
  {
   "cell_type": "markdown",
   "metadata": {},
   "source": [
    "# Prediction"
   ]
  },
  {
   "cell_type": "code",
   "execution_count": 29,
   "metadata": {},
   "outputs": [],
   "source": [
    "## using a basic model with all the features\n",
    "training = train.drop('origin',axis=1)\n",
    "testing = test.drop('origin',axis=1)\n",
    "\n",
    "rf = RandomForestRegressor(n_estimators=200, max_depth=6,max_features=10)\n",
    "rf.fit(training.drop('price_doc',axis=1),training['price_doc'])\n",
    "pred = rf.predict(testing)\n",
    "columns = ['price_doc']\n",
    "sub = pd.DataFrame(data=pred,columns=columns)\n",
    "sub['id'] = test['id']\n",
    "sub = sub[['id','price_doc']]\n",
    "sub.to_csv('with_drifting.csv', index=False)"
   ]
  },
  {
   "cell_type": "markdown",
   "metadata": {},
   "source": [
    "On submitting this file on kaggle, we are getting a score of 0.40116 on private leaderboard."
   ]
  },
  {
   "cell_type": "code",
   "execution_count": 34,
   "metadata": {},
   "outputs": [
    {
     "data": {
      "image/png": "[encoded data removed]",
      "text/plain": [
       "<matplotlib.figure.Figure at 0x7f422ed66278>"
      ]
     },
     "metadata": {},
     "output_type": "display_data"
    }
   ],
   "source": [
    "## checking variable importances\n",
    "### plotting importances\n",
    "features = training.drop('price_doc',axis=1).columns.values\n",
    "imp = rf.feature_importances_\n",
    "indices = np.argsort(imp)[::-1][:20]\n",
    "\n",
    "#plot\n",
    "plt.figure(figsize=(8,5))\n",
    "plt.bar(range(len(indices)), imp[indices], color = 'b', align='center')\n",
    "plt.xticks(range(len(indices)), features[indices], rotation='vertical')\n",
    "plt.xlim([-1,len(indices)])\n",
    "plt.show()"
   ]
  },
  {
   "cell_type": "code",
   "execution_count": 42,
   "metadata": {},
   "outputs": [
    {
     "data": {
      "text/plain": [
       "['id',\n",
       " 'life_sq',\n",
       " 'kitch_sq',\n",
       " 'hospital_beds_raion',\n",
       " 'cafe_sum_500_min_price_avg',\n",
       " 'cafe_sum_500_max_price_avg',\n",
       " 'cafe_avg_price_500']"
      ]
     },
     "execution_count": 42,
     "metadata": {},
     "output_type": "execute_result"
    }
   ],
   "source": [
    "drop_list"
   ]
  },
  {
   "cell_type": "code",
   "execution_count": 38,
   "metadata": {},
   "outputs": [],
   "source": [
    "## model while dropping all the drifting features\n",
    "\n",
    "## dropping drifting features which are not important.\n",
    "drift_train = training.drop(['id','hospital_beds_raion','cafe_sum_500_min_price_avg','cafe_sum_500_max_price_avg','cafe_avg_price_500'], axis=1)\n",
    "drift_test = testing.drop(['id','hospital_beds_raion','cafe_sum_500_min_price_avg','cafe_sum_500_max_price_avg','cafe_avg_price_500'], axis=1)\n",
    "\n",
    "rf = RandomForestRegressor(n_estimators=200, max_depth=6,max_features=10)\n",
    "rf.fit(drift_train.drop('price_doc',axis=1),training['price_doc'])\n",
    "pred = rf.predict(drift_test)\n",
    "columns = ['price_doc']\n",
    "sub = pd.DataFrame(data=pred,columns=columns)\n",
    "sub['id'] = test['id']\n",
    "sub = sub[['id','price_doc']]\n",
    "sub.to_csv('without_drifting.csv', index=False)"
   ]
  },
  {
   "cell_type": "markdown",
   "metadata": {},
   "source": [
    "On submitting this file on kaggle, we are getting a score of 0.39759 on private leaderboard."
   ]
  },
  {
   "cell_type": "code",
   "execution_count": 41,
   "metadata": {},
   "outputs": [
    {
     "data": {
      "image/png": "[encoded data removed]",
      "text/plain": [
       "<matplotlib.figure.Figure at 0x7f422e853f98>"
      ]
     },
     "metadata": {},
     "output_type": "display_data"
    }
   ],
   "source": [
    "## checking variable importances\n",
    "### plotting importances\n",
    "features = drift_train.columns.values\n",
    "imp = rf.feature_importances_\n",
    "indices = np.argsort(imp)[::-1][:20]\n",
    "\n",
    "#plot\n",
    "plt.figure(figsize=(8,5))\n",
    "plt.bar(range(len(indices)), imp[indices], color = 'b', align='center')\n",
    "plt.xticks(range(len(indices)), features[indices], rotation='vertical')\n",
    "plt.xlim([-1,len(indices)])\n",
    "plt.show()"
   ]
  },
  {
   "cell_type": "code",
   "execution_count": null,
   "metadata": {
    "collapsed": true
   },
   "outputs": [],
   "source": []
  }
 ],
 "metadata": {
  "kernelspec": {
   "display_name": "Python 3",
   "language": "python",
   "name": "python3"
  },
  "language_info": {
   "codemirror_mode": {
    "name": "ipython",
    "version": 3
   },
   "file_extension": ".py",
   "mimetype": "text/x-python",
   "name": "python",
   "nbconvert_exporter": "python",
   "pygments_lexer": "ipython3",
   "version": "3.6.1"
  }
 },
 "nbformat": 4,
 "nbformat_minor": 2
}
