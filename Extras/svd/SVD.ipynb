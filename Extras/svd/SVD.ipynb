{
 "cells": [
  {
   "cell_type": "code",
   "execution_count": 1,
   "metadata": {
    "collapsed": true
   },
   "outputs": [],
   "source": [
    "import numpy as np\n",
    "import pandas as pd\n",
    "import random"
   ]
  },
  {
   "cell_type": "code",
   "execution_count": 32,
   "metadata": {},
   "outputs": [
    {
     "data": {
      "text/plain": [
       "matrix([[ 0.44574212,  1.07183437,  0.07430976,  1.52797153],\n",
       "        [-3.35167271,  0.73932409,  1.70205541, -0.80700227],\n",
       "        [-1.00449046,  0.03663619, -0.17543934,  0.85323826],\n",
       "        [ 0.32089497,  1.22576566, -1.13890125, -0.22817407]])"
      ]
     },
     "execution_count": 32,
     "metadata": {},
     "output_type": "execute_result"
    }
   ],
   "source": [
    "A = np.matrix(np.random.randn(4,4))\n",
    "A"
   ]
  },
  {
   "cell_type": "code",
   "execution_count": 33,
   "metadata": {
    "collapsed": true
   },
   "outputs": [],
   "source": [
    "U, sigma, Vtrans = np.linalg.svd(A)"
   ]
  },
  {
   "cell_type": "code",
   "execution_count": 34,
   "metadata": {},
   "outputs": [
    {
     "data": {
      "text/plain": [
       "array([ 4.03505247,  2.07006077,  1.54263019,  0.89081625])"
      ]
     },
     "execution_count": 34,
     "metadata": {},
     "output_type": "execute_result"
    }
   ],
   "source": [
    "sigma"
   ]
  },
  {
   "cell_type": "code",
   "execution_count": 35,
   "metadata": {},
   "outputs": [
    {
     "data": {
      "text/plain": [
       "matrix([[-4.35616317,  0.77596028,  1.52661606,  0.046236  ],\n",
       "        [-3.35167271,  0.73932409,  1.70205541, -0.80700227],\n",
       "        [-1.00449046,  0.03663619, -0.17543934,  0.85323826],\n",
       "        [-3.35167271,  0.73932409,  1.70205541, -0.80700227]])"
      ]
     },
     "execution_count": 35,
     "metadata": {},
     "output_type": "execute_result"
    }
   ],
   "source": [
    "A[0] = A[1] + A[2]\n",
    "A[-1] = A[1]\n",
    "A"
   ]
  },
  {
   "cell_type": "code",
   "execution_count": 74,
   "metadata": {},
   "outputs": [
    {
     "data": {
      "text/plain": [
       "array([ 7.2318,  1.4279,  0.    ,  0.    ])"
      ]
     },
     "execution_count": 74,
     "metadata": {},
     "output_type": "execute_result"
    }
   ],
   "source": [
    "U, sigma, Vtrans = np.linalg.svd(A)\n",
    "sigma = np.around(sigma, decimals=4)\n",
    "sigma"
   ]
  },
  {
   "cell_type": "code",
   "execution_count": 75,
   "metadata": {},
   "outputs": [
    {
     "data": {
      "text/plain": [
       "matrix([[-0.64157387,  0.43403107],\n",
       "        [-0.53736561, -0.33352391],\n",
       "        [-0.10420826,  0.76755497],\n",
       "        [-0.53736561, -0.33352391]])"
      ]
     },
     "execution_count": 75,
     "metadata": {},
     "output_type": "execute_result"
    }
   ],
   "source": [
    "U[:,:2]"
   ]
  },
  {
   "cell_type": "code",
   "execution_count": 76,
   "metadata": {},
   "outputs": [
    {
     "data": {
      "text/plain": [
       "matrix([[ 0.89903809, -0.17924116, -0.38585468,  0.10353395],\n",
       "        [-0.29832858, -0.08981905, -0.4253865 ,  0.84969343]])"
      ]
     },
     "execution_count": 76,
     "metadata": {},
     "output_type": "execute_result"
    }
   ],
   "source": [
    "Vtrans[:2,]"
   ]
  },
  {
   "cell_type": "code",
   "execution_count": 77,
   "metadata": {},
   "outputs": [
    {
     "data": {
      "text/plain": [
       "array([[ 7.2318,  0.    ],\n",
       "       [ 0.    ,  1.4279]])"
      ]
     },
     "execution_count": 77,
     "metadata": {},
     "output_type": "execute_result"
    }
   ],
   "source": [
    "np.diag(sigma[:2])"
   ]
  },
  {
   "cell_type": "code",
   "execution_count": 78,
   "metadata": {},
   "outputs": [
    {
     "data": {
      "text/plain": [
       "matrix([[-4.35616317,  0.77596028,  1.52661606,  0.046236  ],\n",
       "        [-3.35167271,  0.73932409,  1.70205541, -0.80700227],\n",
       "        [-1.00449046,  0.03663619, -0.17543934,  0.85323826],\n",
       "        [-3.35167271,  0.73932409,  1.70205541, -0.80700227]])"
      ]
     },
     "execution_count": 78,
     "metadata": {},
     "output_type": "execute_result"
    }
   ],
   "source": [
    "A"
   ]
  },
  {
   "cell_type": "code",
   "execution_count": 79,
   "metadata": {},
   "outputs": [
    {
     "data": {
      "text/plain": [
       "matrix([[-4.35618754,  0.77596567,  1.5266285 ,  0.04623004],\n",
       "        [-3.35169482,  0.73932808,  1.70206338, -0.80700239],\n",
       "        [-1.00449272,  0.03663758, -0.17543487,  0.85323242],\n",
       "        [-3.35169482,  0.73932808,  1.70206338, -0.80700239]])"
      ]
     },
     "execution_count": 79,
     "metadata": {},
     "output_type": "execute_result"
    }
   ],
   "source": [
    "np.matrix([[-0.64157387,  0.43403107],\n",
    "        [-0.53736561, -0.33352391],\n",
    "        [-0.10420826,  0.76755497],\n",
    "        [-0.53736561, -0.33352391]]) * \\\n",
    "\n",
    "np.array([[ 7.2318,  0.    ],\n",
    "       [ 0.    ,  1.4279]]) * \\\n",
    "\n",
    "np.matrix([[ 0.89903809, -0.17924116, -0.38585468,  0.10353395],\n",
    "        [-0.29832858, -0.08981905, -0.4253865 ,  0.84969343]])\n"
   ]
  },
  {
   "cell_type": "code",
   "execution_count": 6,
   "metadata": {},
   "outputs": [],
   "source": [
    "A = np.matrix([[1,0,0,0,2],\n",
    "               [0,3,2,0,0], \n",
    "               [0,0,0,0,0],\n",
    "               [0,2,0,1,0]])"
   ]
  },
  {
   "cell_type": "code",
   "execution_count": 7,
   "metadata": {},
   "outputs": [
    {
     "data": {
      "text/plain": [
       "matrix([[1, 0, 0, 0, 2],\n",
       "        [0, 3, 2, 0, 0],\n",
       "        [0, 0, 0, 0, 0],\n",
       "        [0, 2, 0, 1, 0]])"
      ]
     },
     "execution_count": 7,
     "metadata": {},
     "output_type": "execute_result"
    }
   ],
   "source": [
    "A"
   ]
  },
  {
   "cell_type": "code",
   "execution_count": null,
   "metadata": {
    "collapsed": true
   },
   "outputs": [],
   "source": []
  }
 ],
 "metadata": {
  "kernelspec": {
   "display_name": "Python 3",
   "language": "python",
   "name": "python3"
  },
  "language_info": {
   "codemirror_mode": {
    "name": "ipython",
    "version": 3
   },
   "file_extension": ".py",
   "mimetype": "text/x-python",
   "name": "python",
   "nbconvert_exporter": "python",
   "pygments_lexer": "ipython3",
   "version": "3.6.1"
  }
 },
 "nbformat": 4,
 "nbformat_minor": 2
}
