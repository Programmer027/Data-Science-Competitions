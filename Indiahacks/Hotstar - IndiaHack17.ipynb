{
 "cells": [
  {
   "cell_type": "code",
   "execution_count": 1,
   "metadata": {
    "collapsed": true
   },
   "outputs": [],
   "source": [
    "import numpy as np\n",
    "import pandas as pd\n",
    "from pandas import Series, DataFrame\n",
    "import os\n",
    "os.chdir('/media/shubham/3AA25FBFA25F7DF7/AV')\n",
    "import json\n",
    "import os\n",
    "os.chdir('/media/shubham/3AA25FBFA25F7DF7/Data Science/IndiaHack17/hotstar')\n",
    "import matplotlib.pyplot as plt\n",
    "%matplotlib inline\n",
    "from sklearn import preprocessing\n",
    "from sklearn.ensemble import RandomForestRegressor\n",
    "from sklearn.model_selection import cross_val_score\n",
    "from sklearn.ensemble import RandomForestClassifier\n",
    "import seaborn as sns\n",
    "import re\n",
    "from sklearn.metrics import roc_auc_score"
   ]
  },
  {
   "cell_type": "code",
   "execution_count": 2,
   "metadata": {
    "collapsed": true
   },
   "outputs": [],
   "source": [
    "## reading data\n",
    "train = pd.read_json('train_data.json',orient=\"index\")\n",
    "test = pd.read_json('test_data.json',orient='index')"
   ]
  },
  {
   "cell_type": "code",
   "execution_count": 24,
   "metadata": {},
   "outputs": [
    {
     "data": {
      "text/html": [
       "<div>\n",
       "<style>\n",
       "    .dataframe thead tr:only-child th {\n",
       "        text-align: right;\n",
       "    }\n",
       "\n",
       "    .dataframe thead th {\n",
       "        text-align: left;\n",
       "    }\n",
       "\n",
       "    .dataframe tbody tr th {\n",
       "        vertical-align: top;\n",
       "    }\n",
       "</style>\n",
       "<table border=\"1\" class=\"dataframe\">\n",
       "  <thead>\n",
       "    <tr style=\"text-align: right;\">\n",
       "      <th></th>\n",
       "      <th>cities</th>\n",
       "      <th>dow</th>\n",
       "      <th>genres</th>\n",
       "      <th>segment</th>\n",
       "      <th>titles</th>\n",
       "      <th>tod</th>\n",
       "    </tr>\n",
       "  </thead>\n",
       "  <tbody>\n",
       "    <tr>\n",
       "      <th>train-1</th>\n",
       "      <td>gurgaon:55494,delhi:31892</td>\n",
       "      <td>1:3412,3:15878,2:1737,5:10975,4:20974,7:17820,...</td>\n",
       "      <td>Cricket:82379,Kabaddi:255,Reality:4751</td>\n",
       "      <td>neg</td>\n",
       "      <td>Top Raids: Haryana vs Services SCB:103,Day 4: ...</td>\n",
       "      <td>10:26,13:331,12:323,20:21864,21:16233,17:7953,...</td>\n",
       "    </tr>\n",
       "    <tr>\n",
       "      <th>train-10</th>\n",
       "      <td>delhi:5862,nagar:8916,mumbai:1593</td>\n",
       "      <td>1:5745,3:3025,2:3346,5:123,4:3007,7:1108,6:10</td>\n",
       "      <td>Cricket:15640,Wildlife:730</td>\n",
       "      <td>neg</td>\n",
       "      <td>Dhoni Quits Captaincy:148,Day 4: India Move in...</td>\n",
       "      <td>11:1661,10:384,20:401,21:798,22:221,16:525,19:...</td>\n",
       "    </tr>\n",
       "    <tr>\n",
       "      <th>train-100</th>\n",
       "      <td>navi mumbai:4142</td>\n",
       "      <td>3:4142</td>\n",
       "      <td>LiveTV:13,Football:4129</td>\n",
       "      <td>neg</td>\n",
       "      <td>Star Sports 4:13,Manchester United vs Everton:...</td>\n",
       "      <td>1:1207,0:2406,2:529</td>\n",
       "    </tr>\n",
       "    <tr>\n",
       "      <th>train-1000</th>\n",
       "      <td>new delhi:4131,chennai:2878,navi mumbai:1339</td>\n",
       "      <td>1:658,3:5867,5:413,4:1339,7:71</td>\n",
       "      <td>TalkShow:658,Cricket:7690</td>\n",
       "      <td>neg</td>\n",
       "      <td>SRH vs RCB:701,KKR vs KXIP:1042,MI vs SRH:2288...</td>\n",
       "      <td>11:71,20:2417,21:1042,23:2288,19:1872,8:658</td>\n",
       "    </tr>\n",
       "    <tr>\n",
       "      <th>train-10000</th>\n",
       "      <td>gurgaon:6077,chennai:4055</td>\n",
       "      <td>1:1641,2:480,4:1445,7:1663,6:4900</td>\n",
       "      <td>Drama:5503,Cricket:3283,Reality:1345</td>\n",
       "      <td>neg</td>\n",
       "      <td>MI vs KKR:304,Yeh Rishta Kya Kehlata Hai:5449,...</td>\n",
       "      <td>20:158,22:4139,17:67,23:1510,19:288,18:56,0:23...</td>\n",
       "    </tr>\n",
       "  </tbody>\n",
       "</table>\n",
       "</div>"
      ],
      "text/plain": [
       "                                                   cities  \\\n",
       "train-1                         gurgaon:55494,delhi:31892   \n",
       "train-10                delhi:5862,nagar:8916,mumbai:1593   \n",
       "train-100                                navi mumbai:4142   \n",
       "train-1000   new delhi:4131,chennai:2878,navi mumbai:1339   \n",
       "train-10000                     gurgaon:6077,chennai:4055   \n",
       "\n",
       "                                                           dow  \\\n",
       "train-1      1:3412,3:15878,2:1737,5:10975,4:20974,7:17820,...   \n",
       "train-10         1:5745,3:3025,2:3346,5:123,4:3007,7:1108,6:10   \n",
       "train-100                                               3:4142   \n",
       "train-1000                      1:658,3:5867,5:413,4:1339,7:71   \n",
       "train-10000                  1:1641,2:480,4:1445,7:1663,6:4900   \n",
       "\n",
       "                                             genres segment  \\\n",
       "train-1      Cricket:82379,Kabaddi:255,Reality:4751     neg   \n",
       "train-10                 Cricket:15640,Wildlife:730     neg   \n",
       "train-100                   LiveTV:13,Football:4129     neg   \n",
       "train-1000                TalkShow:658,Cricket:7690     neg   \n",
       "train-10000    Drama:5503,Cricket:3283,Reality:1345     neg   \n",
       "\n",
       "                                                        titles  \\\n",
       "train-1      Top Raids: Haryana vs Services SCB:103,Day 4: ...   \n",
       "train-10     Dhoni Quits Captaincy:148,Day 4: India Move in...   \n",
       "train-100    Star Sports 4:13,Manchester United vs Everton:...   \n",
       "train-1000   SRH vs RCB:701,KKR vs KXIP:1042,MI vs SRH:2288...   \n",
       "train-10000  MI vs KKR:304,Yeh Rishta Kya Kehlata Hai:5449,...   \n",
       "\n",
       "                                                           tod  \n",
       "train-1      10:26,13:331,12:323,20:21864,21:16233,17:7953,...  \n",
       "train-10     11:1661,10:384,20:401,21:798,22:221,16:525,19:...  \n",
       "train-100                                  1:1207,0:2406,2:529  \n",
       "train-1000         11:71,20:2417,21:1042,23:2288,19:1872,8:658  \n",
       "train-10000  20:158,22:4139,17:67,23:1510,19:288,18:56,0:23...  "
      ]
     },
     "execution_count": 24,
     "metadata": {},
     "output_type": "execute_result"
    }
   ],
   "source": [
    "train.head()"
   ]
  },
  {
   "cell_type": "code",
   "execution_count": 3,
   "metadata": {
    "collapsed": true
   },
   "outputs": [],
   "source": [
    "#set index\n",
    "train.reset_index(inplace=True)\n",
    "test.reset_index(inplace=True)"
   ]
  },
  {
   "cell_type": "code",
   "execution_count": 4,
   "metadata": {
    "collapsed": true
   },
   "outputs": [],
   "source": [
    "#Encode Target Variable\n",
    "train = train.replace({'segment':{'pos':1,'neg':0}})"
   ]
  },
  {
   "cell_type": "code",
   "execution_count": 5,
   "metadata": {},
   "outputs": [
    {
     "data": {
      "text/plain": [
       "0    0.923725\n",
       "1    0.076275\n",
       "Name: segment, dtype: float64"
      ]
     },
     "execution_count": 5,
     "metadata": {},
     "output_type": "execute_result"
    }
   ],
   "source": [
    "train['segment'].value_counts()/train.shape[0]"
   ]
  },
  {
   "cell_type": "code",
   "execution_count": 6,
   "metadata": {
    "collapsed": true
   },
   "outputs": [],
   "source": [
    "train['g1'] = [re.sub(pattern='\\:\\d+', repl='', string=x) for x in train['genres']]\n",
    "train['g1'] = train['g1'].apply(lambda x : x.split(','))\n",
    "\n",
    "train['g2'] = [re.sub(pattern='\\:\\d+', repl='', string=x) for x in train['dow']]\n",
    "train['g2'] = train['g2'].apply(lambda x : x.split(','))"
   ]
  },
  {
   "cell_type": "code",
   "execution_count": 7,
   "metadata": {
    "collapsed": true
   },
   "outputs": [],
   "source": [
    "t1 = pd.Series(train['g1']).apply(frozenset).to_frame(name='t_genre')\n",
    "t2 = pd.Series(train['g2']).apply(frozenset).to_frame(name='t_dow')"
   ]
  },
  {
   "cell_type": "code",
   "execution_count": 8,
   "metadata": {
    "collapsed": true
   },
   "outputs": [],
   "source": [
    "for t_genre in frozenset.union(*t1.t_genre):\n",
    "    t1[t_genre] = t1.apply(lambda _: int(t_genre in _.t_genre), axis=1)"
   ]
  },
  {
   "cell_type": "code",
   "execution_count": 9,
   "metadata": {
    "collapsed": true
   },
   "outputs": [],
   "source": [
    "for t_dow in frozenset.union(*t2.t_dow):\n",
    "    t2[t_dow] = t2.apply(lambda _: int(t_dow in _.t_dow), axis = 1)"
   ]
  },
  {
   "cell_type": "code",
   "execution_count": 10,
   "metadata": {
    "collapsed": true
   },
   "outputs": [],
   "source": [
    "train_data = train"
   ]
  },
  {
   "cell_type": "code",
   "execution_count": 11,
   "metadata": {
    "collapsed": true
   },
   "outputs": [],
   "source": [
    "train_data = pd.concat([train_data.reset_index(drop=True), t1], axis=1)\n",
    "train_data = pd.concat([train_data.reset_index(drop=True), t2], axis=1)"
   ]
  },
  {
   "cell_type": "code",
   "execution_count": 12,
   "metadata": {
    "collapsed": true
   },
   "outputs": [],
   "source": [
    "test_data = test\n",
    "test_data['g1'] = [re.sub(pattern='\\:\\d+',repl='',string=x) for x in test_data['genres']]\n",
    "test_data['g1'] = test_data['g1'].apply(lambda x: x.split(','))\n",
    "\n",
    "test_data['g2'] = [re.sub(pattern='\\:\\d+', repl='', string = x) for x in test_data['dow']]\n",
    "test_data['g2'] = test_data['g2'].apply(lambda x: x.split(','))\n",
    "\n",
    "t1_te = pd.Series(test_data['g1']).apply(frozenset).to_frame(name='t_genre')\n",
    "t2_te = pd.Series(test_data['g2']).apply(frozenset).to_frame(name='t_dow')"
   ]
  },
  {
   "cell_type": "code",
   "execution_count": 13,
   "metadata": {
    "collapsed": true
   },
   "outputs": [],
   "source": [
    "for t_genre in frozenset.union(*t1_te.t_genre):\n",
    "    t1_te[t_genre] = t1_te.apply(lambda _: int(t_genre in _.t_genre), axis=1)"
   ]
  },
  {
   "cell_type": "code",
   "execution_count": 14,
   "metadata": {
    "collapsed": true
   },
   "outputs": [],
   "source": [
    "for t_dow in frozenset.union(*t2_te.t_dow):\n",
    "    t2_te[t_dow] = t2_te.apply(lambda _: int(t_dow in _.t_dow), axis = 1)"
   ]
  },
  {
   "cell_type": "code",
   "execution_count": 15,
   "metadata": {
    "collapsed": true
   },
   "outputs": [],
   "source": [
    "test_data = pd.concat([test_data.reset_index(drop=True), t1_te], axis=1)\n",
    "test_data = pd.concat([test_data.reset_index(drop=True), t2_te], axis=1)\n"
   ]
  },
  {
   "cell_type": "code",
   "execution_count": 16,
   "metadata": {
    "collapsed": true
   },
   "outputs": [],
   "source": [
    "#the rows aren't list exactly. They are object, so we convert them to list and extract the watch time\n",
    "w1 = train_data['titles']\n",
    "w1 = w1.str.split(',')\n",
    "\n",
    "#create a nested list of numbers\n",
    "main = []\n",
    "for i in np.arange(train_data.shape[0]):\n",
    "    d1 = w1[i]\n",
    "    nest = []\n",
    "    nest = [re.sub(pattern = '.*\\:', repl=' ', string= d1[k]) for k in list(np.arange(len(d1)))]\n",
    "    main.append(nest)"
   ]
  },
  {
   "cell_type": "code",
   "execution_count": 17,
   "metadata": {},
   "outputs": [
    {
     "name": "stdout",
     "output_type": "stream",
     "text": [
      "0 blanks found\n",
      "1 blanks found\n",
      "2 blanks found\n",
      "3 blanks found\n",
      "4 blanks found\n",
      "5 blanks found\n",
      "6 blanks found\n",
      "7 blanks found\n",
      "8 blanks found\n",
      "9 blanks found\n",
      "10 blanks found\n",
      "11 blanks found\n",
      "12 blanks found\n",
      "13 blanks found\n",
      "14 blanks found\n",
      "15 blanks found\n",
      "16 blanks found\n",
      "17 blanks found\n",
      "18 blanks found\n",
      "19 blanks found\n",
      "20 blanks found\n",
      "21 blanks found\n",
      "22 blanks found\n",
      "23 blanks found\n",
      "24 blanks found\n",
      "25 blanks found\n",
      "26 blanks found\n",
      "27 blanks found\n",
      "28 blanks found\n",
      "29 blanks found\n",
      "30 blanks found\n",
      "31 blanks found\n",
      "32 blanks found\n",
      "33 blanks found\n",
      "34 blanks found\n",
      "35 blanks found\n",
      "36 blanks found\n",
      "37 blanks found\n",
      "38 blanks found\n",
      "39 blanks found\n",
      "40 blanks found\n",
      "41 blanks found\n",
      "42 blanks found\n",
      "43 blanks found\n",
      "44 blanks found\n",
      "45 blanks found\n"
     ]
    }
   ],
   "source": [
    "blanks = []\n",
    "for i in np.arange(len(main)):\n",
    "    if '' in main[i]:\n",
    "        print (\"{} blanks found\".format(len(blanks)))\n",
    "        blanks.append(i)\n",
    "        \n",
    "#replacing blanks with 0\n",
    "for i in blanks:\n",
    "    main[i] = [x.replace('','0') for x in main[i]]\n",
    "    \n",
    "#converting string to integers\n",
    "main = [[int(y) for y in x] for x in main]\n",
    "\n",
    "#adding the watch time\n",
    "tosum = []\n",
    "for i in np.arange(len(main)):\n",
    "    s = sum(main[i])\n",
    "    tosum.append(s)"
   ]
  },
  {
   "cell_type": "code",
   "execution_count": 18,
   "metadata": {
    "collapsed": true
   },
   "outputs": [],
   "source": [
    "train_data['title_sum'] = tosum"
   ]
  },
  {
   "cell_type": "code",
   "execution_count": 19,
   "metadata": {
    "collapsed": true
   },
   "outputs": [],
   "source": [
    "#making changes in test data\n",
    "w1_te = test_data['titles']\n",
    "w1_te = w1_te.str.split(',')"
   ]
  },
  {
   "cell_type": "code",
   "execution_count": 20,
   "metadata": {
    "collapsed": true
   },
   "outputs": [],
   "source": [
    "main_te = []\n",
    "for i in np.arange(test_data.shape[0]):\n",
    "    d1 = w1_te[i]\n",
    "    nest = []\n",
    "    nest = [re.sub(pattern = '.*\\:', repl=' ', string= d1[k]) for k in list(np.arange(len(d1)))]\n",
    "    main_te.append(nest)"
   ]
  },
  {
   "cell_type": "code",
   "execution_count": 21,
   "metadata": {},
   "outputs": [
    {
     "name": "stdout",
     "output_type": "stream",
     "text": [
      "0 blanks found\n",
      "1 blanks found\n",
      "2 blanks found\n",
      "3 blanks found\n",
      "4 blanks found\n",
      "5 blanks found\n",
      "6 blanks found\n",
      "7 blanks found\n",
      "8 blanks found\n",
      "9 blanks found\n",
      "10 blanks found\n",
      "11 blanks found\n"
     ]
    }
   ],
   "source": [
    "blanks_te = []\n",
    "for i in np.arange(len(main_te)):\n",
    "    if '' in main_te[i]:\n",
    "        print (\"{} blanks found\".format(len(blanks_te)))\n",
    "        blanks_te.append(i)\n",
    "        \n",
    "#replacing blanks with 0\n",
    "for i in blanks_te:\n",
    "    main_te[i] = [x.replace('','0') for x in main_te[i]]\n",
    "    \n",
    "#converting string to integers\n",
    "main_te = [[int(y) for y in x] for x in main_te]\n",
    "\n",
    "#adding the watch time\n",
    "tosum_te = []\n",
    "for i in np.arange(len(main_te)):\n",
    "    s = sum(main_te[i])\n",
    "    tosum_te.append(s)\n"
   ]
  },
  {
   "cell_type": "code",
   "execution_count": 22,
   "metadata": {
    "collapsed": true
   },
   "outputs": [],
   "source": [
    "test_data['title_sum'] = tosum_te"
   ]
  },
  {
   "cell_type": "code",
   "execution_count": 23,
   "metadata": {
    "collapsed": true
   },
   "outputs": [],
   "source": [
    "#count variables\n",
    "def wcount(p):\n",
    "    return p.count(',')+1"
   ]
  },
  {
   "cell_type": "code",
   "execution_count": 24,
   "metadata": {
    "collapsed": true
   },
   "outputs": [],
   "source": [
    "train_data['title_count'] = train_data['titles'].map(wcount)\n",
    "train_data['genres_count'] = train_data['genres'].map(wcount)\n",
    "train_data['cities_count'] = train_data['cities'].map(wcount)\n",
    "train_data['tod_count'] = train_data['tod'].map(wcount)\n",
    "train_data['dow_count'] = train_data['dow'].map(wcount)\n",
    "\n",
    "\n",
    "test_data['title_count'] = test_data['titles'].map(wcount)\n",
    "test_data['genres_count'] = test_data['genres'].map(wcount)\n",
    "test_data['cities_count'] = test_data['cities'].map(wcount)\n",
    "test_data['tod_count'] = test_data['tod'].map(wcount)\n",
    "test_data['dow_count'] = test_data['dow'].map(wcount)"
   ]
  },
  {
   "cell_type": "code",
   "execution_count": 25,
   "metadata": {
    "collapsed": true
   },
   "outputs": [],
   "source": [
    "test_id = test_data['index']\n",
    "train_data.drop(['index','cities','dow','genres','titles','tod','g1','g2','t_genre','t_dow'], inplace=True, axis=1)\n",
    "test_data.drop(['index','cities','dow','genres','titles','tod','g1','g2','t_genre','t_dow'], inplace=True, axis=1)"
   ]
  },
  {
   "cell_type": "code",
   "execution_count": 26,
   "metadata": {},
   "outputs": [
    {
     "name": "stderr",
     "output_type": "stream",
     "text": [
      "/home/shubham/anaconda3/lib/python3.6/site-packages/sklearn/cross_validation.py:44: DeprecationWarning: This module was deprecated in version 0.18 in favor of the model_selection module into which all the refactored classes and functions are moved. Also note that the interface of the new CV iterators are different from that of this module. This module will be removed in 0.20.\n",
      "  \"This module will be removed in 0.20.\", DeprecationWarning)\n",
      "/home/shubham/anaconda3/lib/python3.6/site-packages/sklearn/grid_search.py:43: DeprecationWarning: This module was deprecated in version 0.18 in favor of the model_selection module into which all the refactored classes and functions are moved. This module will be removed in 0.20.\n",
      "  DeprecationWarning)\n"
     ]
    }
   ],
   "source": [
    "from sklearn.ensemble import RandomForestClassifier\n",
    "from sklearn.grid_search import GridSearchCV\n",
    "from sklearn.metrics import roc_auc_score, make_scorer\n",
    "from sklearn.model_selection import train_test_split"
   ]
  },
  {
   "cell_type": "code",
   "execution_count": 27,
   "metadata": {
    "collapsed": true
   },
   "outputs": [],
   "source": [
    "target = train_data['segment']\n",
    "training = train_data.drop('segment',axis=1)"
   ]
  },
  {
   "cell_type": "code",
   "execution_count": 28,
   "metadata": {},
   "outputs": [
    {
     "data": {
      "text/plain": [
       "RandomForestClassifier(bootstrap=True, class_weight=None, criterion='gini',\n",
       "            max_depth=12, max_features=10, max_leaf_nodes=None,\n",
       "            min_impurity_split=1e-07, min_samples_leaf=1,\n",
       "            min_samples_split=2, min_weight_fraction_leaf=0.0,\n",
       "            n_estimators=500, n_jobs=1, oob_score=False, random_state=None,\n",
       "            verbose=0, warm_start=False)"
      ]
     },
     "execution_count": 28,
     "metadata": {},
     "output_type": "execute_result"
    }
   ],
   "source": [
    "#train final model\n",
    "rf_model = RandomForestClassifier(n_estimators=500,max_depth=12, max_features=10)\n",
    "rf_model.fit(training, target)"
   ]
  },
  {
   "cell_type": "code",
   "execution_count": 86,
   "metadata": {
    "collapsed": true
   },
   "outputs": [],
   "source": [
    "#make prediction\n",
    "rf_pred = rf_model.predict_proba(test_data)"
   ]
  },
  {
   "cell_type": "code",
   "execution_count": 87,
   "metadata": {
    "collapsed": true
   },
   "outputs": [],
   "source": [
    "#make submission file and submit\n",
    "columns = ['segment']\n",
    "sub = pd.DataFrame(data=rf_pred[:,1], columns=columns)\n",
    "sub['ID'] = test_id\n",
    "sub = sub[['ID','segment']]\n",
    "sub.to_csv(\"sub_hot.csv\", index=False)"
   ]
  },
  {
   "cell_type": "code",
   "execution_count": 28,
   "metadata": {
    "collapsed": true
   },
   "outputs": [],
   "source": [
    "train_data.shape\n",
    "features = training.columns.values"
   ]
  },
  {
   "cell_type": "code",
   "execution_count": 29,
   "metadata": {},
   "outputs": [
    {
     "data": {
      "image/png": "[encoded data removed]",
      "text/plain": [
       "<matplotlib.figure.Figure at 0x7eff2926c470>"
      ]
     },
     "metadata": {},
     "output_type": "display_data"
    }
   ],
   "source": [
    "### plotting importances\n",
    "features = training.columns.values\n",
    "imp = rf_model.feature_importances_\n",
    "indices = np.argsort(imp)[::-1][:20]\n",
    "\n",
    "#plot\n",
    "plt.figure(figsize=(10,6))\n",
    "plt.bar(range(len(indices)), imp[indices], color = 'b', align='center')\n",
    "plt.xticks(range(len(indices)), features[indices], rotation='vertical')\n",
    "plt.xlim([-1,len(indices)])\n",
    "plt.show()"
   ]
  },
  {
   "cell_type": "code",
   "execution_count": 92,
   "metadata": {
    "collapsed": true
   },
   "outputs": [],
   "source": [
    "x_train,x_test,y_train,y_test = train_test_split(training,target,random_state=1)"
   ]
  },
  {
   "cell_type": "code",
   "execution_count": 107,
   "metadata": {},
   "outputs": [
    {
     "data": {
      "text/plain": [
       "0.79221022295474108"
      ]
     },
     "execution_count": 107,
     "metadata": {},
     "output_type": "execute_result"
    }
   ],
   "source": [
    "rf_model = RandomForestClassifier(n_estimators=200,max_depth=8, max_features=10)\n",
    "rf_model.fit(x_train,y_train)\n",
    "pred= rf_model.predict_proba(x_test)\n",
    "roc_auc_score(y_test,pred[:,1])"
   ]
  },
  {
   "cell_type": "code",
   "execution_count": 113,
   "metadata": {},
   "outputs": [
    {
     "data": {
      "text/plain": [
       "0.79245195229125942"
      ]
     },
     "execution_count": 113,
     "metadata": {},
     "output_type": "execute_result"
    }
   ],
   "source": [
    "rf_model.fit(x_train[features[indices]],y_train)\n",
    "pred= rf_model.predict_proba(x_test[features[indices]])\n",
    "roc_auc_score(y_test,pred[:,1])"
   ]
  },
  {
   "cell_type": "code",
   "execution_count": 114,
   "metadata": {},
   "outputs": [
    {
     "data": {
      "text/plain": [
       "RandomForestClassifier(bootstrap=True, class_weight=None, criterion='gini',\n",
       "            max_depth=12, max_features=10, max_leaf_nodes=None,\n",
       "            min_impurity_split=1e-07, min_samples_leaf=1,\n",
       "            min_samples_split=2, min_weight_fraction_leaf=0.0,\n",
       "            n_estimators=500, n_jobs=1, oob_score=False, random_state=None,\n",
       "            verbose=0, warm_start=False)"
      ]
     },
     "execution_count": 114,
     "metadata": {},
     "output_type": "execute_result"
    }
   ],
   "source": [
    "## using only 20 important features\n",
    "rf_model = RandomForestClassifier(n_estimators=500,max_depth=12, max_features=10)\n",
    "rf_model.fit(training[features[indices]], target)"
   ]
  },
  {
   "cell_type": "code",
   "execution_count": 115,
   "metadata": {
    "collapsed": true
   },
   "outputs": [],
   "source": [
    "rf_pred = rf_model.predict_proba(test_data[features[indices]])\n",
    "#make submission file and submit\n",
    "columns = ['segment']\n",
    "sub = pd.DataFrame(data=rf_pred[:,1], columns=columns)\n",
    "sub['ID'] = test_id\n",
    "sub = sub[['ID','segment']]\n",
    "sub.to_csv(\"sub_hot.csv\", index=False)"
   ]
  },
  {
   "cell_type": "code",
   "execution_count": 29,
   "metadata": {
    "collapsed": true
   },
   "outputs": [],
   "source": [
    "##stacking into 3\n",
    "train1 = train_data.loc[:64999,]\n",
    "train2 = train_data.loc[65000:130000,]\n",
    "train3 = train_data.loc[130001:,]"
   ]
  },
  {
   "cell_type": "code",
   "execution_count": 30,
   "metadata": {
    "collapsed": true
   },
   "outputs": [],
   "source": [
    "target1 = train1['segment']\n",
    "target2 = train2['segment']\n",
    "target3 = train3['segment']"
   ]
  },
  {
   "cell_type": "code",
   "execution_count": 35,
   "metadata": {},
   "outputs": [
    {
     "data": {
      "text/plain": [
       "0.80087176349465383"
      ]
     },
     "execution_count": 35,
     "metadata": {},
     "output_type": "execute_result"
    }
   ],
   "source": [
    "## combining one and two \n",
    "train12 = train1.append(train2)\n",
    "target12 = target1.append(target2)\n",
    "model = RandomForestClassifier(n_estimators=300,max_depth=8, max_features=10)\n",
    "model.fit(train12[features[indices]],target12)\n",
    "pred1 = model.predict_proba(train3[features[indices]])\n",
    "roc_auc_score(target3,pred1[:,1])"
   ]
  },
  {
   "cell_type": "code",
   "execution_count": 36,
   "metadata": {
    "collapsed": true
   },
   "outputs": [],
   "source": [
    "pred_t1 = model.predict_proba(test_data[features[indices]])"
   ]
  },
  {
   "cell_type": "code",
   "execution_count": 37,
   "metadata": {},
   "outputs": [
    {
     "data": {
      "text/plain": [
       "0.78799001240489419"
      ]
     },
     "execution_count": 37,
     "metadata": {},
     "output_type": "execute_result"
    }
   ],
   "source": [
    "## combining 2 and 3\n",
    "train23 = train2.append(train3)\n",
    "target23 = target2.append(target3)\n",
    "model = RandomForestClassifier(n_estimators=300,max_depth=8, max_features=10)\n",
    "model.fit(train23[features[indices]],target23)\n",
    "pred2 = model.predict_proba(train1[features[indices]])\n",
    "roc_auc_score(target1,pred2[:,1])"
   ]
  },
  {
   "cell_type": "code",
   "execution_count": 38,
   "metadata": {
    "collapsed": true
   },
   "outputs": [],
   "source": [
    "pred_t2 = model.predict_proba(test_data[features[indices]])"
   ]
  },
  {
   "cell_type": "code",
   "execution_count": 39,
   "metadata": {},
   "outputs": [
    {
     "data": {
      "text/plain": [
       "0.80354372024777876"
      ]
     },
     "execution_count": 39,
     "metadata": {},
     "output_type": "execute_result"
    }
   ],
   "source": [
    "## combining 1 and 3\n",
    "train13 = train1.append(train3)\n",
    "target13 = target1.append(target3)\n",
    "model = RandomForestClassifier(n_estimators=300,max_depth=8, max_features=10)\n",
    "model.fit(train13[features[indices]],target13)\n",
    "pred3 = model.predict_proba(train2[features[indices]])\n",
    "roc_auc_score(target2,pred3[:,1])"
   ]
  },
  {
   "cell_type": "code",
   "execution_count": 40,
   "metadata": {
    "collapsed": true
   },
   "outputs": [],
   "source": [
    "pred_t3 = model.predict_proba(test_data[features[indices]])"
   ]
  },
  {
   "cell_type": "code",
   "execution_count": 41,
   "metadata": {},
   "outputs": [
    {
     "name": "stderr",
     "output_type": "stream",
     "text": [
      "/home/shubham/anaconda3/lib/python3.6/site-packages/ipykernel_launcher.py:1: SettingWithCopyWarning: \n",
      "A value is trying to be set on a copy of a slice from a DataFrame.\n",
      "Try using .loc[row_indexer,col_indexer] = value instead\n",
      "\n",
      "See the caveats in the documentation: http://pandas.pydata.org/pandas-docs/stable/indexing.html#indexing-view-versus-copy\n",
      "  \"\"\"Entry point for launching an IPython kernel.\n",
      "/home/shubham/anaconda3/lib/python3.6/site-packages/ipykernel_launcher.py:2: SettingWithCopyWarning: \n",
      "A value is trying to be set on a copy of a slice from a DataFrame.\n",
      "Try using .loc[row_indexer,col_indexer] = value instead\n",
      "\n",
      "See the caveats in the documentation: http://pandas.pydata.org/pandas-docs/stable/indexing.html#indexing-view-versus-copy\n",
      "  \n",
      "/home/shubham/anaconda3/lib/python3.6/site-packages/ipykernel_launcher.py:3: SettingWithCopyWarning: \n",
      "A value is trying to be set on a copy of a slice from a DataFrame.\n",
      "Try using .loc[row_indexer,col_indexer] = value instead\n",
      "\n",
      "See the caveats in the documentation: http://pandas.pydata.org/pandas-docs/stable/indexing.html#indexing-view-versus-copy\n",
      "  This is separate from the ipykernel package so we can avoid doing imports until\n"
     ]
    }
   ],
   "source": [
    "train1['prob'] = pred2[:,1]\n",
    "train2['prob'] = pred3[:,1]\n",
    "train3['prob'] = pred1[:,1]\n",
    "test_data['prob'] = pred_t1[:,1] + pred_t2[:,1] + pred_t3[:,1]"
   ]
  },
  {
   "cell_type": "code",
   "execution_count": 42,
   "metadata": {},
   "outputs": [
    {
     "name": "stderr",
     "output_type": "stream",
     "text": [
      "/home/shubham/anaconda3/lib/python3.6/site-packages/ipykernel_launcher.py:1: DeprecationWarning: assignment will raise an error in the future, most likely because your index result shape does not match the value array shape. You can use `arr.flat[index] = values` to keep the old behaviour.\n",
      "  \"\"\"Entry point for launching an IPython kernel.\n"
     ]
    }
   ],
   "source": [
    "features[indices] = np.append(features[indices],['prob'])"
   ]
  },
  {
   "cell_type": "code",
   "execution_count": 43,
   "metadata": {
    "collapsed": true
   },
   "outputs": [],
   "source": [
    "training = train1.append(train2).append(train3)"
   ]
  },
  {
   "cell_type": "code",
   "execution_count": 44,
   "metadata": {},
   "outputs": [
    {
     "data": {
      "text/plain": [
       "RandomForestClassifier(bootstrap=True, class_weight=None, criterion='gini',\n",
       "            max_depth=12, max_features=10, max_leaf_nodes=None,\n",
       "            min_impurity_split=1e-07, min_samples_leaf=1,\n",
       "            min_samples_split=2, min_weight_fraction_leaf=0.0,\n",
       "            n_estimators=500, n_jobs=1, oob_score=False, random_state=None,\n",
       "            verbose=0, warm_start=False)"
      ]
     },
     "execution_count": 44,
     "metadata": {},
     "output_type": "execute_result"
    }
   ],
   "source": [
    "rf_model = RandomForestClassifier(n_estimators=500,max_depth=12, max_features=10)\n",
    "rf_model.fit(training[features[indices]], target)"
   ]
  },
  {
   "cell_type": "code",
   "execution_count": 45,
   "metadata": {
    "collapsed": true
   },
   "outputs": [],
   "source": [
    "rf_pred = rf_model.predict_proba(test_data[features[indices]])\n",
    "#make submission file and submit\n",
    "columns = ['segment']\n",
    "sub = pd.DataFrame(data=rf_pred[:,1], columns=columns)\n",
    "sub['ID'] = test_id\n",
    "sub = sub[['ID','segment']]\n",
    "sub.to_csv(\"sub_hot.csv\", index=False)"
   ]
  },
  {
   "cell_type": "code",
   "execution_count": 34,
   "metadata": {
    "collapsed": true,
    "scrolled": false
   },
   "outputs": [],
   "source": [
    "## using xgboost model\n",
    "import xgboost as xgb\n",
    "#base_score= np.mean(training['segment'])\n",
    "xgb_para = {\n",
    "    #'n_trees':500,\n",
    "    'eta':0.05,\n",
    "    'max_depth':6,\n",
    "    'subsample':0.75,\n",
    "    'colsample_bytree':0.8,\n",
    "    'min_child_weight':1,\n",
    "    'objective':'binary:logistic',\n",
    "    'eval_metric':'auc',\n",
    "    #'base-score': base_score\n",
    "  # 'colsample_bytree':0.8,\n",
    "   #'min_child_weight':1\n",
    "}"
   ]
  },
  {
   "cell_type": "code",
   "execution_count": 35,
   "metadata": {
    "collapsed": true
   },
   "outputs": [],
   "source": [
    "#Dmatrix\n",
    "dtrain = xgb.DMatrix(training[features[indices]], target)\n",
    "dtest = xgb.DMatrix(test_data[features[indices]])"
   ]
  },
  {
   "cell_type": "code",
   "execution_count": 36,
   "metadata": {},
   "outputs": [
    {
     "name": "stdout",
     "output_type": "stream",
     "text": [
      "[0]\ttrain-auc:0.787776\ttest-auc:0.781806\n",
      "[50]\ttrain-auc:0.809785\ttest-auc:0.79919\n",
      "[100]\ttrain-auc:0.818465\ttest-auc:0.801403\n",
      "[150]\ttrain-auc:0.825521\ttest-auc:0.801886\n",
      "136\n"
     ]
    }
   ],
   "source": [
    "#xgboost cv\n",
    "cv_result = xgb.cv(xgb_para,\n",
    "                   dtrain,\n",
    "                   num_boost_round=200,\n",
    "                   early_stopping_rounds=50,\n",
    "                   verbose_eval=50,\n",
    "                   show_stdv=False)\n",
    "num_boost_rounds = len(cv_result)\n",
    "print (num_boost_rounds)\n",
    "\n",
    "model = xgb.train(dict(xgb_para), dtrain,num_boost_round=num_boost_rounds)"
   ]
  },
  {
   "cell_type": "code",
   "execution_count": 52,
   "metadata": {
    "collapsed": true
   },
   "outputs": [],
   "source": [
    "pred = model.predict(dtest)\n",
    "#make submission file and submit\n",
    "columns = ['segment']\n",
    "sub = pd.DataFrame(data=pred, columns=columns)\n",
    "sub['ID'] = test_id\n",
    "sub = sub[['ID','segment']]\n",
    "sub.to_csv(\"sub_hot.csv\", index=False)"
   ]
  },
  {
   "cell_type": "code",
   "execution_count": 56,
   "metadata": {
    "collapsed": true
   },
   "outputs": [],
   "source": [
    "## stacking using xgb"
   ]
  },
  {
   "cell_type": "code",
   "execution_count": 37,
   "metadata": {
    "collapsed": true
   },
   "outputs": [],
   "source": [
    "##stacking into 3\n",
    "train1 = train_data.loc[:64999,]\n",
    "train2 = train_data.loc[65000:130000,]\n",
    "train3 = train_data.loc[130001:,]"
   ]
  },
  {
   "cell_type": "code",
   "execution_count": 38,
   "metadata": {
    "collapsed": true
   },
   "outputs": [],
   "source": [
    "target1 = train1['segment']\n",
    "target2 = train2['segment']\n",
    "target3 = train3['segment']"
   ]
  },
  {
   "cell_type": "code",
   "execution_count": 39,
   "metadata": {},
   "outputs": [
    {
     "data": {
      "text/plain": [
       "0.80569785557634388"
      ]
     },
     "execution_count": 39,
     "metadata": {},
     "output_type": "execute_result"
    }
   ],
   "source": [
    "## combining one and two \n",
    "train12 = train1.append(train2)\n",
    "target12 = target1.append(target2)\n",
    "#Dmatrix\n",
    "dtrain = xgb.DMatrix(train12[features[indices]], target12)\n",
    "dtest = xgb.DMatrix(train3[features[indices]])\n",
    "\n",
    "model1 = xgb.train(dict(xgb_para), dtrain,num_boost_round=num_boost_rounds)\n",
    "pred1 = model1.predict(dtest)\n",
    "roc_auc_score(target3,pred1)"
   ]
  },
  {
   "cell_type": "code",
   "execution_count": 40,
   "metadata": {
    "collapsed": true
   },
   "outputs": [],
   "source": [
    "dtest = xgb.DMatrix(test_data[features[indices]])\n",
    "pred_t1 = model1.predict(dtest)"
   ]
  },
  {
   "cell_type": "code",
   "execution_count": 41,
   "metadata": {},
   "outputs": [
    {
     "data": {
      "text/plain": [
       "0.80717403429085999"
      ]
     },
     "execution_count": 41,
     "metadata": {},
     "output_type": "execute_result"
    }
   ],
   "source": [
    "## combining one and three \n",
    "train13 = train1.append(train3)\n",
    "target13 = target1.append(target3)\n",
    "#Dmatrix\n",
    "dtrain = xgb.DMatrix(train13[features[indices]], target13)\n",
    "dtest = xgb.DMatrix(train2[features[indices]])\n",
    "\n",
    "model2 = xgb.train(dict(xgb_para), dtrain,num_boost_round=num_boost_rounds)\n",
    "pred2 = model2.predict(dtest)\n",
    "roc_auc_score(target2,pred2)"
   ]
  },
  {
   "cell_type": "code",
   "execution_count": 42,
   "metadata": {
    "collapsed": true
   },
   "outputs": [],
   "source": [
    "dtest = xgb.DMatrix(test_data[features[indices]])\n",
    "pred_t2 = model2.predict(dtest)"
   ]
  },
  {
   "cell_type": "code",
   "execution_count": 43,
   "metadata": {},
   "outputs": [
    {
     "data": {
      "text/plain": [
       "0.79260525583593366"
      ]
     },
     "execution_count": 43,
     "metadata": {},
     "output_type": "execute_result"
    }
   ],
   "source": [
    "## combining two and three \n",
    "train23 = train2.append(train3)\n",
    "target23 = target2.append(target3)\n",
    "#Dmatrix\n",
    "dtrain = xgb.DMatrix(train23[features[indices]], target23)\n",
    "dtest = xgb.DMatrix(train1[features[indices]])\n",
    "\n",
    "model3 = xgb.train(dict(xgb_para), dtrain,num_boost_round=num_boost_rounds)\n",
    "pred3 = model3.predict(dtest)\n",
    "roc_auc_score(target1,pred3)"
   ]
  },
  {
   "cell_type": "code",
   "execution_count": 44,
   "metadata": {
    "collapsed": true
   },
   "outputs": [],
   "source": [
    "dtest = xgb.DMatrix(test_data[features[indices]])\n",
    "pred_t3 = model3.predict(dtest)"
   ]
  },
  {
   "cell_type": "code",
   "execution_count": 45,
   "metadata": {},
   "outputs": [
    {
     "name": "stderr",
     "output_type": "stream",
     "text": [
      "/home/shubham/anaconda3/lib/python3.6/site-packages/ipykernel_launcher.py:1: SettingWithCopyWarning: \n",
      "A value is trying to be set on a copy of a slice from a DataFrame.\n",
      "Try using .loc[row_indexer,col_indexer] = value instead\n",
      "\n",
      "See the caveats in the documentation: http://pandas.pydata.org/pandas-docs/stable/indexing.html#indexing-view-versus-copy\n",
      "  \"\"\"Entry point for launching an IPython kernel.\n",
      "/home/shubham/anaconda3/lib/python3.6/site-packages/ipykernel_launcher.py:2: SettingWithCopyWarning: \n",
      "A value is trying to be set on a copy of a slice from a DataFrame.\n",
      "Try using .loc[row_indexer,col_indexer] = value instead\n",
      "\n",
      "See the caveats in the documentation: http://pandas.pydata.org/pandas-docs/stable/indexing.html#indexing-view-versus-copy\n",
      "  \n",
      "/home/shubham/anaconda3/lib/python3.6/site-packages/ipykernel_launcher.py:3: SettingWithCopyWarning: \n",
      "A value is trying to be set on a copy of a slice from a DataFrame.\n",
      "Try using .loc[row_indexer,col_indexer] = value instead\n",
      "\n",
      "See the caveats in the documentation: http://pandas.pydata.org/pandas-docs/stable/indexing.html#indexing-view-versus-copy\n",
      "  This is separate from the ipykernel package so we can avoid doing imports until\n"
     ]
    }
   ],
   "source": [
    "train1['prob'] = pred3\n",
    "train2['prob'] = pred2\n",
    "train3['prob'] = pred1\n",
    "test_data['prob'] = pred_t1 + pred_t2 + pred_t3"
   ]
  },
  {
   "cell_type": "code",
   "execution_count": 57,
   "metadata": {
    "collapsed": true
   },
   "outputs": [],
   "source": [
    "indices = np.append(indices,49)"
   ]
  },
  {
   "cell_type": "code",
   "execution_count": 58,
   "metadata": {},
   "outputs": [
    {
     "data": {
      "text/plain": [
       "array(['Table Tennis', '3', 'title_sum', 'cities_count', 'genres_count',\n",
       "       'Science', 'title_count', 'NA', 'Reality', 'tod_count', 'Kids',\n",
       "       'Crime', 'Formula1', 'Tennis', '5', '7', 'TalkShow', '1', '6',\n",
       "       'Travel', 'prob'], dtype=object)"
      ]
     },
     "execution_count": 58,
     "metadata": {},
     "output_type": "execute_result"
    }
   ],
   "source": [
    "features = train1.columns.values\n",
    "features[indices]"
   ]
  },
  {
   "cell_type": "code",
   "execution_count": 59,
   "metadata": {
    "collapsed": true
   },
   "outputs": [],
   "source": [
    "training = train1.append(train2).append(train3)"
   ]
  },
  {
   "cell_type": "code",
   "execution_count": 72,
   "metadata": {
    "collapsed": true
   },
   "outputs": [],
   "source": [
    "## final xgb model"
   ]
  },
  {
   "cell_type": "code",
   "execution_count": 60,
   "metadata": {
    "collapsed": true
   },
   "outputs": [],
   "source": [
    "#Dmatrix\n",
    "dtrain = xgb.DMatrix(training[features[indices]], target)\n",
    "dtest = xgb.DMatrix(test_data[features[indices]])"
   ]
  },
  {
   "cell_type": "code",
   "execution_count": 61,
   "metadata": {},
   "outputs": [
    {
     "name": "stdout",
     "output_type": "stream",
     "text": [
      "[0]\ttrain-auc:0.799933\ttest-auc:0.796599\n",
      "[50]\ttrain-auc:0.812181\ttest-auc:0.800905\n",
      "[100]\ttrain-auc:0.818615\ttest-auc:0.801062\n",
      "77\n"
     ]
    }
   ],
   "source": [
    "#xgboost cv\n",
    "cv_result = xgb.cv(xgb_para,\n",
    "                   dtrain,\n",
    "                   num_boost_round=200,\n",
    "                   early_stopping_rounds=50,\n",
    "                   verbose_eval=50,\n",
    "                   show_stdv=False)\n",
    "num_boost_rounds = len(cv_result)\n",
    "print (num_boost_rounds)\n",
    "\n",
    "model = xgb.train(dict(xgb_para), dtrain,num_boost_round=num_boost_rounds)"
   ]
  },
  {
   "cell_type": "code",
   "execution_count": 1,
   "metadata": {},
   "outputs": [
    {
     "ename": "NameError",
     "evalue": "name 'model' is not defined",
     "output_type": "error",
     "traceback": [
      "\u001b[0;31m---------------------------------------------------------------------------\u001b[0m",
      "\u001b[0;31mNameError\u001b[0m                                 Traceback (most recent call last)",
      "\u001b[0;32m<ipython-input-1-52530dbd949e>\u001b[0m in \u001b[0;36m<module>\u001b[0;34m()\u001b[0m\n\u001b[0;32m----> 1\u001b[0;31m \u001b[0mpred\u001b[0m \u001b[0;34m=\u001b[0m \u001b[0mmodel\u001b[0m\u001b[0;34m.\u001b[0m\u001b[0mpredict\u001b[0m\u001b[0;34m(\u001b[0m\u001b[0mdtest\u001b[0m\u001b[0;34m)\u001b[0m\u001b[0;34m\u001b[0m\u001b[0m\n\u001b[0m\u001b[1;32m      2\u001b[0m \u001b[0;31m#make submission file and submit\u001b[0m\u001b[0;34m\u001b[0m\u001b[0;34m\u001b[0m\u001b[0m\n\u001b[1;32m      3\u001b[0m \u001b[0mcolumns\u001b[0m \u001b[0;34m=\u001b[0m \u001b[0;34m[\u001b[0m\u001b[0;34m'segment'\u001b[0m\u001b[0;34m]\u001b[0m\u001b[0;34m\u001b[0m\u001b[0m\n\u001b[1;32m      4\u001b[0m \u001b[0msub\u001b[0m \u001b[0;34m=\u001b[0m \u001b[0mpd\u001b[0m\u001b[0;34m.\u001b[0m\u001b[0mDataFrame\u001b[0m\u001b[0;34m(\u001b[0m\u001b[0mdata\u001b[0m\u001b[0;34m=\u001b[0m\u001b[0mpred\u001b[0m\u001b[0;34m,\u001b[0m \u001b[0mcolumns\u001b[0m\u001b[0;34m=\u001b[0m\u001b[0mcolumns\u001b[0m\u001b[0;34m)\u001b[0m\u001b[0;34m\u001b[0m\u001b[0m\n\u001b[1;32m      5\u001b[0m \u001b[0msub\u001b[0m\u001b[0;34m[\u001b[0m\u001b[0;34m'PassengerId'\u001b[0m\u001b[0;34m]\u001b[0m \u001b[0;34m=\u001b[0m \u001b[0mtest_id\u001b[0m\u001b[0;34m\u001b[0m\u001b[0m\n",
      "\u001b[0;31mNameError\u001b[0m: name 'model' is not defined"
     ]
    }
   ],
   "source": [
    "pred = model.predict(dtest)\n",
    "#make submission file and submit\n",
    "columns = ['segment']\n",
    "sub = pd.DataFrame(data=pred, columns=columns)\n",
    "sub['ID'] = test_id\n",
    "sub = sub[['ID','segment']]\n",
    "sub.to_csv(\"sub_hot.csv\", index=False)"
   ]
  },
  {
   "cell_type": "code",
   "execution_count": null,
   "metadata": {
    "collapsed": true
   },
   "outputs": [],
   "source": []
  }
 ],
 "metadata": {
  "kernelspec": {
   "display_name": "Python 3",
   "language": "python",
   "name": "python3"
  },
  "language_info": {
   "codemirror_mode": {
    "name": "ipython",
    "version": 3
   },
   "file_extension": ".py",
   "mimetype": "text/x-python",
   "name": "python",
   "nbconvert_exporter": "python",
   "pygments_lexer": "ipython3",
   "version": "3.6.1"
  }
 },
 "nbformat": 4,
 "nbformat_minor": 2
}
